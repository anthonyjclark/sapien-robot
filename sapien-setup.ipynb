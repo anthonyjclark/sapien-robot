{
 "cells": [
  {
   "cell_type": "code",
   "execution_count": null,
   "id": "09abee11-7ce5-4a88-9b1c-2ac82b1160bd",
   "metadata": {},
   "outputs": [],
   "source": [
    "import platform, sys, sysconfig\n",
    "\n",
    "print('From platform ', platform.python_version())\n",
    "print('From system   ', sys.version)\n",
    "print('From system   ', sys.executable)\n",
    "print('From sysconfig', sysconfig.get_python_version())"
   ]
  },
  {
   "cell_type": "code",
   "execution_count": 1,
   "id": "a0131c1e-692e-4e3f-b9b3-e016a3a323fe",
   "metadata": {},
   "outputs": [
    {
     "name": "stdout",
     "output_type": "stream",
     "text": [
      "Defaulting to user installation because normal site-packages is not writeable\n",
      "Requirement already satisfied: sapien==3.0.0b1 in /home/ajcd2020/.local/lib/python3.9/site-packages (3.0.0b1)\n",
      "Requirement already satisfied: pillow in /home/ajcd2020/.local/lib/python3.9/site-packages (11.1.0)\n",
      "Requirement already satisfied: transforms3d in /home/ajcd2020/.local/lib/python3.9/site-packages (0.4.2)\n",
      "Collecting loguru\n",
      "  Downloading loguru-0.7.3-py3-none-any.whl (61 kB)\n",
      "\u001b[K     |████████████████████████████████| 61 kB 373 kB/s eta 0:00:01\n",
      "\u001b[?25hRequirement already satisfied: numpy>=1.17 in /home/ajcd2020/.local/lib/python3.9/site-packages (from sapien==3.0.0b1) (2.0.2)\n",
      "Requirement already satisfied: requests>=2.22 in /usr/local/lib/python3.9/site-packages (from sapien==3.0.0b1) (2.31.0)\n",
      "Requirement already satisfied: opencv-python>=4.0 in /home/ajcd2020/.local/lib/python3.9/site-packages (from sapien==3.0.0b1) (4.10.0.84)\n",
      "Requirement already satisfied: networkx in /home/ajcd2020/.local/lib/python3.9/site-packages (from sapien==3.0.0b1) (3.2.1)\n",
      "Requirement already satisfied: lxml in /home/ajcd2020/.local/lib/python3.9/site-packages (from sapien==3.0.0b1) (5.3.0)\n",
      "Requirement already satisfied: pyperclip in /home/ajcd2020/.local/lib/python3.9/site-packages (from sapien==3.0.0b1) (1.9.0)\n",
      "Requirement already satisfied: charset-normalizer<4,>=2 in /usr/local/lib64/python3.9/site-packages (from requests>=2.22->sapien==3.0.0b1) (3.0.1)\n",
      "Requirement already satisfied: idna<4,>=2.5 in /usr/local/lib/python3.9/site-packages (from requests>=2.22->sapien==3.0.0b1) (3.4)\n",
      "Requirement already satisfied: certifi>=2017.4.17 in /usr/local/lib/python3.9/site-packages (from requests>=2.22->sapien==3.0.0b1) (2022.12.7)\n",
      "Requirement already satisfied: urllib3<3,>=1.21.1 in /usr/local/lib/python3.9/site-packages (from requests>=2.22->sapien==3.0.0b1) (1.26.14)\n",
      "Installing collected packages: loguru\n",
      "Successfully installed loguru-0.7.3\n"
     ]
    }
   ],
   "source": [
    "# !/usr/bin/python3.9 -m pip install sapien==3.0.0b1 pillow transforms3d loguru\n",
    "# /home/ajcd2020/.local/bin\n",
    "\n",
    "!mamba create --name sapien\n",
    "!mamba activate sapien\n",
    "!mamba install python=3.12 pillow transforms3d loguru ffmpeg jupyter seaborn pandas gh\n",
    "!python -m pip install sapien==3.0.0b1"
   ]
  },
  {
   "cell_type": "code",
   "execution_count": null,
   "id": "ff999700-970e-4d88-b34a-4118abd0aaa9",
   "metadata": {},
   "outputs": [],
   "source": [
    "!TODO: explicit path to python -m sapien.example.offscreen"
   ]
  },
  {
   "cell_type": "code",
   "execution_count": 5,
   "id": "1fbdd62e-a0f1-490a-aa53-3d3d6c03a90e",
   "metadata": {},
   "outputs": [],
   "source": [
    "import sapien as sapien\n",
    "import numpy as np\n",
    "\n",
    "\n",
    "def main():\n",
    "    scene = sapien.Scene()  # Create an instance of simulation world (aka scene)\n",
    "    scene.set_timestep(1 / 100.0)  # Set the simulation frequency\n",
    "\n",
    "    # NOTE: How to build (rigid bodies) is elaborated in create_actors.py\n",
    "    scene.add_ground(altitude=0)  # Add a ground\n",
    "    actor_builder = scene.create_actor_builder()\n",
    "    actor_builder.add_box_collision(half_size=[0.5, 0.5, 0.5])\n",
    "    actor_builder.add_box_visual(half_size=[0.5, 0.5, 0.5], material=[1.0, 0.0, 0.0])\n",
    "    box = actor_builder.build(name=\"box\")  # Add a box\n",
    "    box.set_pose(sapien.Pose(p=[0, 0, 0.5]))\n",
    "\n",
    "    # Add some lights so that you can observe the scene\n",
    "    scene.set_ambient_light([0.5, 0.5, 0.5])\n",
    "    scene.add_directional_light([0, 1, -1], [0.5, 0.5, 0.5])\n",
    "\n",
    "    for _ in range(1000):\n",
    "        scene.step()  # Simulate the world\n",
    "        scene.update_render()  # Update the world to the renderer\n",
    "\n",
    "main()"
   ]
  },
  {
   "cell_type": "code",
   "execution_count": null,
   "id": "041b92ef-e207-4abd-b8f9-820503da3f4a",
   "metadata": {},
   "outputs": [],
   "source": []
  }
 ],
 "metadata": {
  "kernelspec": {
   "display_name": "Python 3",
   "language": "python",
   "name": "python3"
  },
  "language_info": {
   "codemirror_mode": {
    "name": "ipython",
    "version": 3
   },
   "file_extension": ".py",
   "mimetype": "text/x-python",
   "name": "python",
   "nbconvert_exporter": "python",
   "pygments_lexer": "ipython3",
   "version": "3.9.20"
  }
 },
 "nbformat": 4,
 "nbformat_minor": 5
}
