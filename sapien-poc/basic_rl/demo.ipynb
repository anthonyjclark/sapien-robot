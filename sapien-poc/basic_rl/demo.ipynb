{
 "cells": [
  {
   "cell_type": "code",
   "execution_count": 1,
   "metadata": {},
   "outputs": [],
   "source": [
    "import gymnasium as gym\n",
    "\n",
    "from PIL import Image\n",
    "from shutil import rmtree\n",
    "from pathlib import Path\n",
    "import numpy as np\n",
    "import torch\n"
   ]
  },
  {
   "cell_type": "code",
   "execution_count": null,
   "metadata": {},
   "outputs": [],
   "source": [
    "def tensor_to_image(tensor):\n",
    "    tensor = tensor*255\n",
    "    tensor = np.array(tensor, dtype=np.uint8)\n",
    "    if np.ndim(tensor)>3:\n",
    "        assert tensor.shape[0] == 1\n",
    "        tensor = tensor[0]\n",
    "    return Image.fromarray(tensor)\n",
    "    # define a torch tensor\n",
    "    # transform = T.ToPILImage()\n",
    "\n",
    "    # # convert the tensor to PIL image using above transform\n",
    "    # return transform(tensor)"
   ]
  },
  {
   "cell_type": "code",
   "execution_count": 2,
   "metadata": {},
   "outputs": [
    {
     "name": "stderr",
     "output_type": "stream",
     "text": [
      "/rhome/mnla2021/.conda/envs/sapien-rma/lib/python3.12/site-packages/sapien/_vulkan_tricks.py:21: UserWarning: Failed to find system libvulkan. Fallback to SAPIEN builtin libvulkan.\n",
      "  warn(\"Failed to find system libvulkan. Fallback to SAPIEN builtin libvulkan.\")\n"
     ]
    },
    {
     "ename": "RuntimeError",
     "evalue": "failed to find device \"cuda\"",
     "output_type": "error",
     "traceback": [
      "\u001b[0;31m---------------------------------------------------------------------------\u001b[0m",
      "\u001b[0;31mRuntimeError\u001b[0m                              Traceback (most recent call last)",
      "Cell \u001b[0;32mIn[2], line 4\u001b[0m\n\u001b[1;32m      1\u001b[0m \u001b[38;5;28;01mimport\u001b[39;00m \u001b[38;5;21;01mtw_robot\u001b[39;00m\n\u001b[1;32m      2\u001b[0m \u001b[38;5;28;01mimport\u001b[39;00m \u001b[38;5;21;01mterrain_env\u001b[39;00m\n\u001b[0;32m----> 4\u001b[0m env \u001b[38;5;241m=\u001b[39m gym\u001b[38;5;241m.\u001b[39mmake(\u001b[38;5;124m\"\u001b[39m\u001b[38;5;124mTerrain-env\u001b[39m\u001b[38;5;124m\"\u001b[39m, \n\u001b[1;32m      5\u001b[0m                robot_uids\u001b[38;5;241m=\u001b[39m\u001b[38;5;124m\"\u001b[39m\u001b[38;5;124mtw_robot\u001b[39m\u001b[38;5;124m\"\u001b[39m, \n\u001b[1;32m      6\u001b[0m                render_mode\u001b[38;5;241m=\u001b[39m\u001b[38;5;124m\"\u001b[39m\u001b[38;5;124mrgb_array\u001b[39m\u001b[38;5;124m\"\u001b[39m, \n\u001b[1;32m      7\u001b[0m                human_render_camera_configs\u001b[38;5;241m=\u001b[39m\u001b[38;5;28mdict\u001b[39m(shader_pack\u001b[38;5;241m=\u001b[39m\u001b[38;5;124m\"\u001b[39m\u001b[38;5;124mrt\u001b[39m\u001b[38;5;124m\"\u001b[39m),)\n",
      "File \u001b[0;32m~/.conda/envs/sapien-rma/lib/python3.12/site-packages/gymnasium/envs/registration.py:802\u001b[0m, in \u001b[0;36mmake\u001b[0;34m(id, max_episode_steps, autoreset, apply_api_compatibility, disable_env_checker, **kwargs)\u001b[0m\n\u001b[1;32m    799\u001b[0m     render_mode \u001b[38;5;241m=\u001b[39m \u001b[38;5;28;01mNone\u001b[39;00m\n\u001b[1;32m    801\u001b[0m \u001b[38;5;28;01mtry\u001b[39;00m:\n\u001b[0;32m--> 802\u001b[0m     env \u001b[38;5;241m=\u001b[39m env_creator(\u001b[38;5;241m*\u001b[39m\u001b[38;5;241m*\u001b[39menv_spec_kwargs)\n\u001b[1;32m    803\u001b[0m \u001b[38;5;28;01mexcept\u001b[39;00m \u001b[38;5;167;01mTypeError\u001b[39;00m \u001b[38;5;28;01mas\u001b[39;00m e:\n\u001b[1;32m    804\u001b[0m     \u001b[38;5;28;01mif\u001b[39;00m (\n\u001b[1;32m    805\u001b[0m         \u001b[38;5;28mstr\u001b[39m(e)\u001b[38;5;241m.\u001b[39mfind(\u001b[38;5;124m\"\u001b[39m\u001b[38;5;124mgot an unexpected keyword argument \u001b[39m\u001b[38;5;124m'\u001b[39m\u001b[38;5;124mrender_mode\u001b[39m\u001b[38;5;124m'\u001b[39m\u001b[38;5;124m\"\u001b[39m) \u001b[38;5;241m>\u001b[39m\u001b[38;5;241m=\u001b[39m \u001b[38;5;241m0\u001b[39m\n\u001b[1;32m    806\u001b[0m         \u001b[38;5;129;01mand\u001b[39;00m apply_human_rendering\n\u001b[1;32m    807\u001b[0m     ):\n",
      "File \u001b[0;32m~/.conda/envs/sapien-rma/lib/python3.12/site-packages/mani_skill/utils/registration.py:182\u001b[0m, in \u001b[0;36mmake\u001b[0;34m(env_id, **kwargs)\u001b[0m\n\u001b[1;32m    180\u001b[0m     \u001b[38;5;28;01mraise\u001b[39;00m \u001b[38;5;167;01mKeyError\u001b[39;00m(\u001b[38;5;124m\"\u001b[39m\u001b[38;5;124mEnv \u001b[39m\u001b[38;5;132;01m{}\u001b[39;00m\u001b[38;5;124m not found in registry\u001b[39m\u001b[38;5;124m\"\u001b[39m\u001b[38;5;241m.\u001b[39mformat(env_id))\n\u001b[1;32m    181\u001b[0m env_spec \u001b[38;5;241m=\u001b[39m REGISTERED_ENVS[env_id]\n\u001b[0;32m--> 182\u001b[0m env \u001b[38;5;241m=\u001b[39m env_spec\u001b[38;5;241m.\u001b[39mmake(\u001b[38;5;241m*\u001b[39m\u001b[38;5;241m*\u001b[39mkwargs)\n\u001b[1;32m    183\u001b[0m \u001b[38;5;28;01mreturn\u001b[39;00m env\n",
      "File \u001b[0;32m~/.conda/envs/sapien-rma/lib/python3.12/site-packages/mani_skill/utils/registration.py:79\u001b[0m, in \u001b[0;36mEnvSpec.make\u001b[0;34m(self, **kwargs)\u001b[0m\n\u001b[1;32m     77\u001b[0m         \u001b[38;5;28mprint\u001b[39m(\u001b[38;5;124m\"\u001b[39m\u001b[38;5;124mExiting as assets are not found or downloaded\u001b[39m\u001b[38;5;124m\"\u001b[39m)\n\u001b[1;32m     78\u001b[0m         exit()\n\u001b[0;32m---> 79\u001b[0m \u001b[38;5;28;01mreturn\u001b[39;00m \u001b[38;5;28mself\u001b[39m\u001b[38;5;241m.\u001b[39mcls(\u001b[38;5;241m*\u001b[39m\u001b[38;5;241m*\u001b[39m_kwargs)\n",
      "File \u001b[0;32m/bigdata/rhome/mnla2021/sapein-poc/mani_test/terrain_env.py:20\u001b[0m, in \u001b[0;36mTerrainEnv.__init__\u001b[0;34m(self, robot_uids, *args, **kwargs)\u001b[0m\n\u001b[1;32m     17\u001b[0m \u001b[38;5;28;01mdef\u001b[39;00m \u001b[38;5;21m__init__\u001b[39m(\u001b[38;5;28mself\u001b[39m, \u001b[38;5;241m*\u001b[39margs, robot_uids\u001b[38;5;241m=\u001b[39m\u001b[38;5;124m\"\u001b[39m\u001b[38;5;124mtw_robot\u001b[39m\u001b[38;5;124m\"\u001b[39m, \u001b[38;5;241m*\u001b[39m\u001b[38;5;241m*\u001b[39mkwargs):\n\u001b[1;32m     18\u001b[0m     \u001b[38;5;66;03m# robot_uids=\"fetch\" is possible, or even multi-robot \u001b[39;00m\n\u001b[1;32m     19\u001b[0m     \u001b[38;5;66;03m# setups via robot_uids=(\"fetch\", \"panda\")\u001b[39;00m\n\u001b[0;32m---> 20\u001b[0m     \u001b[38;5;28msuper\u001b[39m()\u001b[38;5;241m.\u001b[39m\u001b[38;5;21m__init__\u001b[39m(\u001b[38;5;241m*\u001b[39margs, robot_uids\u001b[38;5;241m=\u001b[39mrobot_uids, \u001b[38;5;241m*\u001b[39m\u001b[38;5;241m*\u001b[39mkwargs)\n",
      "File \u001b[0;32m~/.conda/envs/sapien-rma/lib/python3.12/site-packages/mani_skill/envs/sapien_env.py:231\u001b[0m, in \u001b[0;36mBaseEnv.__init__\u001b[0;34m(self, num_envs, obs_mode, reward_mode, control_mode, render_mode, shader_dir, enable_shadow, sensor_configs, human_render_camera_configs, viewer_camera_configs, robot_uids, sim_config, reconfiguration_freq, sim_backend, render_backend, parallel_in_single_scene, enhanced_determinism)\u001b[0m\n\u001b[1;32m    229\u001b[0m     \u001b[38;5;28;01melse\u001b[39;00m:\n\u001b[1;32m    230\u001b[0m         sim_backend \u001b[38;5;241m=\u001b[39m \u001b[38;5;124m\"\u001b[39m\u001b[38;5;124mphysx_cpu\u001b[39m\u001b[38;5;124m\"\u001b[39m\n\u001b[0;32m--> 231\u001b[0m \u001b[38;5;28mself\u001b[39m\u001b[38;5;241m.\u001b[39mbackend \u001b[38;5;241m=\u001b[39m parse_sim_and_render_backend(sim_backend, render_backend)\n\u001b[1;32m    232\u001b[0m \u001b[38;5;66;03m# determine the sim and render devices\u001b[39;00m\n\u001b[1;32m    233\u001b[0m \u001b[38;5;28mself\u001b[39m\u001b[38;5;241m.\u001b[39mdevice \u001b[38;5;241m=\u001b[39m \u001b[38;5;28mself\u001b[39m\u001b[38;5;241m.\u001b[39mbackend\u001b[38;5;241m.\u001b[39mdevice\n",
      "File \u001b[0;32m~/.conda/envs/sapien-rma/lib/python3.12/site-packages/mani_skill/envs/utils/system/backend.py:60\u001b[0m, in \u001b[0;36mparse_sim_and_render_backend\u001b[0;34m(sim_backend, render_backend)\u001b[0m\n\u001b[1;32m     57\u001b[0m \u001b[38;5;66;03m# TODO (stao): handle checking if system is mac, in which we must then use render_backend = \"sapien_cpu\"\u001b[39;00m\n\u001b[1;32m     58\u001b[0m \u001b[38;5;66;03m# determine render device\u001b[39;00m\n\u001b[1;32m     59\u001b[0m \u001b[38;5;28;01mif\u001b[39;00m render_backend \u001b[38;5;241m==\u001b[39m \u001b[38;5;124m\"\u001b[39m\u001b[38;5;124msapien_cuda\u001b[39m\u001b[38;5;124m\"\u001b[39m:\n\u001b[0;32m---> 60\u001b[0m     render_device \u001b[38;5;241m=\u001b[39m sapien\u001b[38;5;241m.\u001b[39mDevice(\u001b[38;5;124m\"\u001b[39m\u001b[38;5;124mcuda\u001b[39m\u001b[38;5;124m\"\u001b[39m)\n\u001b[1;32m     61\u001b[0m \u001b[38;5;28;01melif\u001b[39;00m render_backend \u001b[38;5;241m==\u001b[39m \u001b[38;5;124m\"\u001b[39m\u001b[38;5;124msapien_cpu\u001b[39m\u001b[38;5;124m\"\u001b[39m:\n\u001b[1;32m     62\u001b[0m     render_device \u001b[38;5;241m=\u001b[39m sapien\u001b[38;5;241m.\u001b[39mDevice(\u001b[38;5;124m\"\u001b[39m\u001b[38;5;124mcpu\u001b[39m\u001b[38;5;124m\"\u001b[39m)\n",
      "\u001b[0;31mRuntimeError\u001b[0m: failed to find device \"cuda\""
     ]
    }
   ],
   "source": [
    "import tw_robot\n",
    "import terrain_env\n",
    "\n",
    "env = gym.make(\"Terrain-env\", \n",
    "               robot_uids=\"tw_robot\", \n",
    "               render_mode=\"rgb_array\", \n",
    "               human_render_camera_configs=dict(shader_pack=\"rt\"),)"
   ]
  },
  {
   "cell_type": "code",
   "execution_count": 4,
   "metadata": {},
   "outputs": [
    {
     "ename": "NameError",
     "evalue": "name 'env' is not defined",
     "output_type": "error",
     "traceback": [
      "\u001b[0;31m---------------------------------------------------------------------------\u001b[0m",
      "\u001b[0;31mNameError\u001b[0m                                 Traceback (most recent call last)",
      "Cell \u001b[0;32mIn[4], line 1\u001b[0m\n\u001b[0;32m----> 1\u001b[0m env\u001b[38;5;241m.\u001b[39mrender()\n",
      "\u001b[0;31mNameError\u001b[0m: name 'env' is not defined"
     ]
    }
   ],
   "source": [
    "env.render()"
   ]
  },
  {
   "cell_type": "code",
   "execution_count": null,
   "metadata": {},
   "outputs": [],
   "source": [
    "capture_i = 0\n",
    "\n",
    "print(env.observation_space) \n",
    "print(env.action_space)\n",
    "\n",
    "image_dir = Path(\"./image_output\")\n",
    "    \n",
    "if image_dir.exists():\n",
    "    rmtree(image_dir)\n",
    "    \n",
    "image_dir.mkdir()"
   ]
  },
  {
   "cell_type": "code",
   "execution_count": null,
   "metadata": {},
   "outputs": [],
   "source": [
    "obs, _ = env.reset(seed=0)\n",
    "\n",
    "for i in range(10):\n",
    "    \n",
    "    action = env.action_space.sample()\n",
    "    obs, reward, terminated, truncated, info = env.step(action)\n",
    "    done = terminated | truncated\n",
    "    print(f\"Obs shape: {obs.shape}, Reward shape {reward.shape}, Done shape {done.shape}\")\n",
    "\n",
    "    # rgba_img = \n",
    "    image = tensor_to_image(env.render_rgb_array())\n",
    "    image.save(f\"image_output/cam{capture_i:05}.png\")\n",
    "    capture_i += 1"
   ]
  },
  {
   "cell_type": "code",
   "execution_count": null,
   "metadata": {},
   "outputs": [],
   "source": [
    "env.close()"
   ]
  }
 ],
 "metadata": {
  "kernelspec": {
   "display_name": "Python 3",
   "language": "python",
   "name": "python3"
  },
  "language_info": {
   "codemirror_mode": {
    "name": "ipython",
    "version": 3
   },
   "file_extension": ".py",
   "mimetype": "text/x-python",
   "name": "python",
   "nbconvert_exporter": "python",
   "pygments_lexer": "ipython3",
   "version": "3.12.9"
  }
 },
 "nbformat": 4,
 "nbformat_minor": 2
}
