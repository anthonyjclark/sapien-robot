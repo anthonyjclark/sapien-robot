{
 "cells": [
  {
   "cell_type": "code",
   "execution_count": 1,
   "metadata": {},
   "outputs": [],
   "source": [
    "import gymnasium as gym\n",
    "\n",
    "from PIL import Image\n",
    "from shutil import rmtree\n",
    "from pathlib import Path\n",
    "import numpy as np\n",
    "import torch"
   ]
  },
  {
   "cell_type": "code",
   "execution_count": 2,
   "metadata": {},
   "outputs": [],
   "source": [
    "def tensor_to_image(tensor):\n",
    "    tensor = tensor*255\n",
    "    tensor = np.array(tensor, dtype=np.uint8)\n",
    "    if np.ndim(tensor)>3:\n",
    "        assert tensor.shape[0] == 1\n",
    "        tensor = tensor[0]\n",
    "    return Image.fromarray(tensor)\n",
    "    # define a torch tensor\n",
    "    # transform = T.ToPILImage()\n",
    "\n",
    "    # # convert the tensor to PIL image using above transform\n",
    "    # return transform(tensor)"
   ]
  },
  {
   "cell_type": "code",
   "execution_count": 3,
   "metadata": {},
   "outputs": [
    {
     "name": "stderr",
     "output_type": "stream",
     "text": [
      "/class/cs152/miniforge3/envs/mani/lib/python3.12/site-packages/sapien/_vulkan_tricks.py:37: UserWarning: Failed to find Vulkan ICD file. This is probably due to an incorrect or partial installation of the NVIDIA driver. SAPIEN will attempt to provide an ICD file anyway but it may not work.\n",
      "  warn(\n",
      "[2025-03-14 09:58:48.666] [svulkan2] [error] The selected GPU does not support ray tracing\n",
      "/class/cs152/miniforge3/envs/mani/lib/python3.12/site-packages/mani_skill/utils/structs/base.py:214: UserWarning: Creating a tensor from a list of numpy.ndarrays is extremely slow. Please consider converting the list to a single numpy.ndarray with numpy.array() before converting to a tensor. (Triggered internally at /home/conda/feedstock_root/build_artifacts/libtorch_1730827426462/work/torch/csrc/utils/tensor_new.cpp:278.)\n",
      "  return torch.tensor([body.linear_velocity for body in self._bodies])\n"
     ]
    }
   ],
   "source": [
    "import tw_robot\n",
    "import terrain_env\n",
    "\n",
    "env = gym.make(\"Terrain-env\", \n",
    "               robot_uids=\"tw_robot\", \n",
    "               render_mode=\"rgb_array\", \n",
    "               human_render_camera_configs=dict(shader_pack=\"rt\"),)"
   ]
  },
  {
   "cell_type": "code",
   "execution_count": 13,
   "metadata": {},
   "outputs": [
    {
     "data": {
      "text/plain": [
       "torch.Size([1, 16])"
      ]
     },
     "execution_count": 13,
     "metadata": {},
     "output_type": "execute_result"
    }
   ],
   "source": [
    "# env.agent.get_proprioception()#['qpos'].shape\n",
    "env.agent.robot.get_qpos().shape"
   ]
  },
  {
   "cell_type": "code",
   "execution_count": 4,
   "metadata": {},
   "outputs": [
    {
     "ename": "NameError",
     "evalue": "name 'env' is not defined",
     "output_type": "error",
     "traceback": [
      "\u001b[0;31m---------------------------------------------------------------------------\u001b[0m",
      "\u001b[0;31mNameError\u001b[0m                                 Traceback (most recent call last)",
      "Cell \u001b[0;32mIn[4], line 1\u001b[0m\n\u001b[0;32m----> 1\u001b[0m env\u001b[38;5;241m.\u001b[39mrender()\n",
      "\u001b[0;31mNameError\u001b[0m: name 'env' is not defined"
     ]
    }
   ],
   "source": [
    "env.render()"
   ]
  },
  {
   "cell_type": "code",
   "execution_count": null,
   "metadata": {},
   "outputs": [],
   "source": [
    "capture_i = 0\n",
    "\n",
    "print(env.observation_space) \n",
    "print(env.action_space)\n",
    "\n",
    "image_dir = Path(\"./image_output\")\n",
    "    \n",
    "if image_dir.exists():\n",
    "    rmtree(image_dir)\n",
    "    \n",
    "image_dir.mkdir()"
   ]
  },
  {
   "cell_type": "code",
   "execution_count": null,
   "metadata": {},
   "outputs": [],
   "source": [
    "obs, _ = env.reset(seed=0)\n",
    "\n",
    "for i in range(10):\n",
    "    \n",
    "    action = env.action_space.sample()\n",
    "    obs, reward, terminated, truncated, info = env.step(action)\n",
    "    done = terminated | truncated\n",
    "    print(f\"Obs shape: {obs.shape}, Reward shape {reward.shape}, Done shape {done.shape}\")\n",
    "\n",
    "    # rgba_img = \n",
    "    image = tensor_to_image(env.render_rgb_array())\n",
    "    image.save(f\"image_output/cam{capture_i:05}.png\")\n",
    "    capture_i += 1"
   ]
  },
  {
   "cell_type": "code",
   "execution_count": null,
   "metadata": {},
   "outputs": [],
   "source": [
    "env.close()"
   ]
  }
 ],
 "metadata": {
  "kernelspec": {
   "display_name": "Python3 (mani)",
   "language": "python",
   "name": "mani"
  },
  "language_info": {
   "codemirror_mode": {
    "name": "ipython",
    "version": 3
   },
   "file_extension": ".py",
   "mimetype": "text/x-python",
   "name": "python",
   "nbconvert_exporter": "python",
   "pygments_lexer": "ipython3",
   "version": "3.12.9"
  }
 },
 "nbformat": 4,
 "nbformat_minor": 4
}
